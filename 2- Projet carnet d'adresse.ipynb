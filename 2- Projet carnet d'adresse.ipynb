{
 "cells": [
  {
   "cell_type": "markdown",
   "id": "1d74ea5f",
   "metadata": {},
   "source": [
    "# Projet : Carnet d'adresses"
   ]
  },
  {
   "cell_type": "markdown",
   "id": "01de8ba9",
   "metadata": {},
   "source": [
    "**Objectif** : Créer un programme qui permet à l'utilisateur d'ajouter, de voir, de modifier et de supprimer des contacts de son carnet d'adresses. Chaque contact doit avoir un nom, un numéro de téléphone et une adresse e-mail.\n",
    "\n",
    "**Étapes :**\n",
    "\n",
    "1. Affichez un menu permettant à l'utilisateur de choisir parmi les options suivantes :\n",
    "\n",
    "- Ajouter un contact\n",
    "- Voir tous les contacts\n",
    "- Modifier un contact\n",
    "- Supprimer un contact\n",
    "- Quitter le programme  \n",
    "\n",
    "2. Mettez en œuvre chaque fonctionnalité en utilisant des dictionnaires pour stocker les informations des contacts."
   ]
  },
  {
   "cell_type": "markdown",
   "id": "649dd193",
   "metadata": {},
   "source": [
    "### 1.Affichage du menu"
   ]
  },
  {
   "cell_type": "markdown",
   "id": "160cd0e5",
   "metadata": {},
   "source": [
    "**Créer la fonction afficher_menu() à l'aide de print**"
   ]
  },
  {
   "cell_type": "code",
   "execution_count": 49,
   "id": "e5ba42f7",
   "metadata": {},
   "outputs": [],
   "source": [
    "carnet = {\"Bob\" : [\"0632323232\", \"bob@gmail.com\"]}\n",
    "def afficher_menu(carnet): \n",
    "    print(\"Tapez 1 pour accèder à vos contact\")\n",
    "    print(\"Tapez 2 pour ajouter un contact\")\n",
    "    print(\"Tapez 3 pour modifier un contact\")\n",
    "    print(\"Tapez 4 pour supprimer un contact\")\n",
    "    print(\"Tapez 5 pour quitter le programme\")\n",
    "    user_choice = input(\"Que voulez vous faire ? : \")\n",
    "    while True :\n",
    "        if user_choice == \"1\":\n",
    "            voir_contacts(carnet)\n",
    "            break\n",
    "        elif user_choice == \"2\":\n",
    "            carnet = ajouter_contact(carnet)\n",
    "            break\n",
    "        elif user_choice == \"3\":\n",
    "            carnet = modifier_contact(carnet)\n",
    "            break\n",
    "        elif user_choice == \"4\":\n",
    "            carnet = supprimer_contact(carnet)\n",
    "            break\n",
    "        elif user_choice == \"5\":\n",
    "            print(\"Bye bye\")\n",
    "            break\n",
    "        else:\n",
    "            print(\"Veuillez entrer l'une des options qui vous est proposé\")\n"
   ]
  },
  {
   "cell_type": "markdown",
   "id": "4aa72a3a",
   "metadata": {},
   "source": [
    "### 2.1. La fonctionnalité \"Ajouter contact\""
   ]
  },
  {
   "cell_type": "markdown",
   "id": "78f74a6c",
   "metadata": {},
   "source": [
    "**Créer la fonction ajouter_contact qui prend en paramètre carnet qui correspond au dictionnaire recensant toutes les informations**"
   ]
  },
  {
   "cell_type": "code",
   "execution_count": 50,
   "id": "fc91578b",
   "metadata": {},
   "outputs": [],
   "source": [
    "def ajouter_contact(carnet): \n",
    "    name = input(\"Quel est le nom du nouveau contact ? :\")\n",
    "    phone_number  =  is_number_valid(input(\"Quel est le numéro de téléphone du nouveau contact ? :\"))\n",
    "    email_adress = input(\"Quel est l'adresse email du nouveau contact ? :\")\n",
    "    carnet[name] = [phone_number, email_adress]\n",
    "    return carnet\n",
    "\n",
    "#Cette fonction va vérifier que l'utilisateur a bien entré un numéro valide\n",
    "def is_number_valid(number):\n",
    "    error = \"Veuillez entrer un numéro valide.\"\n",
    "    while True:\n",
    "        try:\n",
    "            #La conversion de str vers int vers str est là pour déclencher une ValueError si l'utilisateur entre un str\n",
    "            #On retire tous les espaces pour ne pas déclencher une erreur lors de la conversion vers int\n",
    "            number = \"0\" + str(int(rm_spaces_in_str(number)))\n",
    "            break\n",
    "        except ValueError:\n",
    "            print(error)\n",
    "            number = input(\"Quel est le numéro de téléphone du nouveau contact ? :\")\n",
    "            break\n",
    "    return number\n",
    "\n",
    "def rm_spaces_in_str(number):\n",
    "    result = \"\"\n",
    "    for i in range(len(number)):\n",
    "        if number[i] != \" \":\n",
    "            result += number[i]\n",
    "    return result"
   ]
  },
  {
   "cell_type": "markdown",
   "id": "7069a64b",
   "metadata": {},
   "source": [
    "### 2.2. La fonctionnalité \"Voir contact\""
   ]
  },
  {
   "cell_type": "markdown",
   "id": "7396cbfa",
   "metadata": {},
   "source": [
    "**Créer la fonction voir_contact qui prend en paramètre carnet qui correspond au dictionnaire recensant toutes les informations** "
   ]
  },
  {
   "cell_type": "code",
   "execution_count": 51,
   "id": "1f69a637",
   "metadata": {},
   "outputs": [],
   "source": [
    "def voir_contacts(carnet):\n",
    "    for key in carnet.keys():\n",
    "        #La fonction add_spaces_in_nbr permet d'afficher de manière plus claire le numéro\n",
    "        print(f\"Nom : {key} \\nNuméro de téléphone : {add_spaces_in_nbr(carnet[key][0])} \\nAdresse Email : {carnet[key][1]} \\n\")\n",
    "\n",
    "def add_spaces_in_nbr(phone_number : str):\n",
    "    temp = phone_number\n",
    "    for i in range(len(phone_number)-1, -1, -2):\n",
    "        temp = temp[:i] + \" \" + temp[i:]\n",
    "    return temp"
   ]
  },
  {
   "cell_type": "markdown",
   "id": "1228af37",
   "metadata": {},
   "source": [
    "### 2.3. La fonctionnalité \"Modifier contact\""
   ]
  },
  {
   "cell_type": "markdown",
   "id": "c67068e8",
   "metadata": {},
   "source": [
    "**Créer la fonction modifier_contact qui prend en paramètre carnet qui correspond au dictionnaire recensant toutes les informations** "
   ]
  },
  {
   "cell_type": "code",
   "execution_count": 52,
   "id": "fe98d285",
   "metadata": {},
   "outputs": [],
   "source": [
    "def modifier_contact(carnet):\n",
    "    name = input(\"Quel est le nom du contact à modifier ? :\")\n",
    "    print(\"Pour modifier le nom du contact tapé 1\" +\n",
    "             \"\\nPour modifier le numéro tapé 2\" + \n",
    "             \"\\nPour modifier l'email tapé 3\"+\n",
    "             \"\\nPour revenir au menu principale tapé 4\")\n",
    "    while True:\n",
    "        user_choice = input(\"Que voulez vous modifier ? :\")\n",
    "        if user_choice == \"1\":\n",
    "            old_name = name\n",
    "            name = input(\"Quel est le nouveau nom du contact ? :\")\n",
    "            carnet[name] = [carnet[old_name][0],carnet[old_name][1]]\n",
    "            del carnet[old_name]\n",
    "            break \n",
    "        elif user_choice == \"2\":\n",
    "            carnet[name][0] = input(\"Quel est le nouveau numéro de téléphone du contact ? :\")\n",
    "            break \n",
    "        elif user_choice == \"3\":\n",
    "            carnet[name][1] = input(\"Quel est la nouvelle adresse email du contact ? :\")\n",
    "            break \n",
    "        elif user_choice == \"4\":\n",
    "            afficher_menu()\n",
    "            break\n",
    "        else:\n",
    "            print(\"Veuillez entrer l'une des options proposées\")\n",
    "    return carnet"
   ]
  },
  {
   "cell_type": "markdown",
   "id": "ff9b904c",
   "metadata": {},
   "source": [
    "### 2.4. La fonctionnalité \"Supprimer contact\""
   ]
  },
  {
   "cell_type": "markdown",
   "id": "618ae6ec",
   "metadata": {},
   "source": [
    "**Créer la fonction supprimer_contact qui prend en paramètre carnet qui correspond au dictionnaire recensant toutes les informations**"
   ]
  },
  {
   "cell_type": "code",
   "execution_count": 53,
   "id": "781a0aa1",
   "metadata": {},
   "outputs": [],
   "source": [
    "def supprimer_contact(carnet):\n",
    "    name = input(\"Quel contact voulez vous supprimer ? : \")\n",
    "    user_choice = input(f\"Voulez vous vraiment supprimer {name} ? Y/N : \")\n",
    "    if user_choice == \"Y\" or user_choice == \"y\":\n",
    "        del carnet[name]\n",
    "        return carnet\n",
    "    return carnet\n"
   ]
  },
  {
   "cell_type": "markdown",
   "id": "52a2965b",
   "metadata": {},
   "source": [
    "### Créer la fonction main qui va permettre l'appel aux fonctions"
   ]
  },
  {
   "cell_type": "code",
   "execution_count": 54,
   "id": "fe257de7",
   "metadata": {},
   "outputs": [],
   "source": [
    "def main():\n",
    "    afficher_menu()"
   ]
  }
 ],
 "metadata": {
  "kernelspec": {
   "display_name": "Python 3 (ipykernel)",
   "language": "python",
   "name": "python3"
  },
  "language_info": {
   "codemirror_mode": {
    "name": "ipython",
    "version": 3
   },
   "file_extension": ".py",
   "mimetype": "text/x-python",
   "name": "python",
   "nbconvert_exporter": "python",
   "pygments_lexer": "ipython3",
   "version": "3.11.5"
  }
 },
 "nbformat": 4,
 "nbformat_minor": 5
}
